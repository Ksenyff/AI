{
  "cells": [
    {
      "cell_type": "markdown",
      "metadata": {
        "id": "view-in-github",
        "colab_type": "text"
      },
      "source": [
        "<a href=\"https://colab.research.google.com/github/Ksenyff/AI/blob/main/Classification.ipynb\" target=\"_parent\"><img src=\"https://colab.research.google.com/assets/colab-badge.svg\" alt=\"Open In Colab\"/></a>"
      ]
    },
    {
      "cell_type": "markdown",
      "source": [
        "Дополнить код классификатора спамовых сообщений следующим образом\n",
        "\n",
        "1) дополнить список сообщений со спамом своими примерами (желательно 15-20 примеров)\n",
        "\n",
        "2) дополнить список сообщений с важным содержимым своими примерами (желательно 15-20 примеров)\n",
        "\n",
        "3) дополнить массив \"шума\" предлогами, союзами, частицами и знаками препинания\n",
        "\n",
        "4) выгрузить готовый классификатор в файл и прикрепить его к сдаваемому д/з\n"
      ],
      "metadata": {
        "id": "FjHVJnaMBxdy"
      }
    },
    {
      "cell_type": "code",
      "execution_count": 1,
      "metadata": {
        "id": "SuqVQjWdM5ts"
      },
      "outputs": [],
      "source": [
        "#   СПАМ\n",
        "spam_messages = [\n",
        "    \"Вы выиграли миллион рублей! Переходите по ссылке!\",\n",
        "    \"Бесплатный iPhone за 3 дня — успейте забрать!\",\n",
        "    \"Ваш аккаунт заблокирован. Нажмите сюда для разблокировки.\",\n",
        "    \"Срочно! Ваша карта заморожена — звоните сейчас!\",\n",
        "    \"Поздравляем! Вы стали победителем конкурса.\",\n",
        "    \"Только сегодня! Кредит без проверок!\",\n",
        "    \"Вы получили подарок от банка — откройте его прямо сейчас.\",\n",
        "    \"Вам пришло новое письмо от службы безопасности.\",\n",
        "    \"Подтвердите номер телефона, иначе аккаунт будет удален.\",\n",
        "    \"Увеличьте депозит в 10 раз уже сегодня!\",\n",
        "    \"Вы получили штраф за парковку — оплатите онлайн.\",\n",
        "    \"Работайте дома и зарабатывайте тысячи ежедневно!\",\n",
        "    \"Новый способ заработка без вложений — переходите по ссылке.\",\n",
        "    \"Кликните здесь, чтобы получить бонус к зарплате.\",\n",
        "    \"Вам пришло секретное сообщение от правительства.\",\n",
        "    \"Оцените ваш кредитную историю бесплатно!\",\n",
        "    \"Не упустите шанс — инвестируйте всего $10 и удвойте сумму!\",\n",
        "    \"Мы знаем ваши секреты — платите или мы всё расскажем!\",\n",
        "    \"Вы были выбраны случайным образом — получите приз бесплатно!\",\n",
        "    \"Срочно свяжитесь с нами, иначе мы будем вынуждены передать дело в суд.\"\n",
        "]\n",
        "\n",
        "# Важные сообщения\n",
        "important_messages = [\n",
        "    \"Добрый день, это напоминание о встрече в 15:00.\",\n",
        "    \"Ваш заказ №12345 готов к отправке.\",\n",
        "    \"Пожалуйста, подтвердите участие в собрании завтра.\",\n",
        "    \"Счёт на оплату услуг предоставлен.\",\n",
        "    \"Информационная рассылка: изменения в правилах компании.\",\n",
        "    \"Вы успешно зарегистрировались на курс 'Нейронные сети'.\",\n",
        "    \"Ваш билет на поезд подтверждён.\",\n",
        "    \"Пароль вашего аккаунта был изменён.\",\n",
        "    \"Документы для подписания отправлены на email.\",\n",
        "    \"Вас пригласили на интервью в понедельник.\",\n",
        "    \"Обновление программного обеспечения доступно.\",\n",
        "    \"Ваша заявка на визу одобрена.\",\n",
        "    \"Вы успешно прошли тестовое задание.\",\n",
        "    \"Доступ к порталу открыт — логин и пароль отправлены.\",\n",
        "    \"Важное уведомление: технические работы с 18:00 до 20:00.\",\n",
        "    \"Отчет по проделанной работе приложен ко входящему письму.\",\n",
        "    \"Вас добавили в группу проекта ‘NeuroTech’.\",\n",
        "    \"Спасибо за покупку! Товар будет доставлен в течение 3 дней.\",\n",
        "    \"Ваш запрос на отпуск одобрен HR-отделом.\",\n",
        "    \"Приглашаем вас на вебинар ‘Основы машинного обучения’.\"\n",
        "]\n",
        "# ШУМ\n",
        "noise_words = [\n",
        "    'и', 'в', 'на', 'с', 'по', 'при', 'к', 'до', 'от', 'из', 'за',\n",
        "    'но', 'а', 'же', 'то', 'что', 'как', 'это', 'он', 'она', 'они',\n",
        "    'мы', 'вы', 'они', 'его', 'их', 'мой', 'ваш', 'ее', 'не', 'ни',\n",
        "    'же', 'бы', 'ли', ',', '.', '!', '?', '-', ':', ';', '(', ')',\n",
        "    'же', 'вроде', 'ну', 'вот', 'типа', 'крч', 'просто'\n",
        "]\n"
      ]
    },
    {
      "cell_type": "code",
      "source": [
        "from sklearn.feature_extraction.text import CountVectorizer\n",
        "from sklearn.naive_bayes import MultinomialNB\n",
        "from sklearn.model_selection import train_test_split\n",
        "import joblib\n",
        "\n",
        "# Создаем метки\n",
        "labels = [1] * len(spam_messages) + [0] * len(important_messages)\n",
        "messages = spam_messages + important_messages\n",
        "\n",
        "# Векторизация текста (удалим \"шум\")\n",
        "vectorizer = CountVectorizer(stop_words=noise_words)\n",
        "X = vectorizer.fit_transform(messages)\n",
        "\n",
        "# Разбиваем выборку\n",
        "X_train, X_test, y_train, y_test = train_test_split(X, labels, test_size=0.2, random_state=42)\n",
        "\n",
        "# Обучаем модель\n",
        "model = MultinomialNB()\n",
        "model.fit(X_train, y_train)\n",
        "\n",
        "# Оценка точности\n",
        "print(\"Точность модели:\", model.score(X_test, y_test))\n",
        "\n",
        "# Сохраняем модель и векторизатор\n",
        "joblib.dump(model, 'spam_classifier.pkl')\n",
        "joblib.dump(vectorizer, 'vectorizer.pkl')\n",
        "print(\"Модель и векторизатор успешно сохранены!\")"
      ],
      "metadata": {
        "id": "Pq3XTVR3BnH1",
        "colab": {
          "base_uri": "https://localhost:8080/"
        },
        "outputId": "3aec93d0-217c-463a-bf6a-11df3b73fc8e"
      },
      "execution_count": 2,
      "outputs": [
        {
          "output_type": "stream",
          "name": "stdout",
          "text": [
            "Точность модели: 0.75\n",
            "Модель и векторизатор успешно сохранены!\n"
          ]
        }
      ]
    },
    {
      "cell_type": "code",
      "source": [
        "# Загрузка модели\n",
        "model = joblib.load('spam_classifier.pkl')\n",
        "vectorizer = joblib.load('vectorizer.pkl')\n",
        "\n",
        "def predict_spam(text):\n",
        "    vec = vectorizer.transform([text])\n",
        "    prediction = model.predict(vec)[0]\n",
        "    return \"Спам\" if prediction == 1 else \"Не спам\"\n",
        "\n",
        "# Примеры предсказаний\n",
        "print(predict_spam(\"Вы выиграли миллион долларов! Быстро переходите по ссылке\"))\n",
        "print(predict_spam(\"Ваш заказ отправлен\"))"
      ],
      "metadata": {
        "id": "2iouf4FCBnGD",
        "colab": {
          "base_uri": "https://localhost:8080/"
        },
        "outputId": "9abf85dc-5244-45aa-ee57-e6bfc3ca3b51"
      },
      "execution_count": 4,
      "outputs": [
        {
          "output_type": "stream",
          "name": "stdout",
          "text": [
            "Спам\n",
            "Не спам\n"
          ]
        }
      ]
    },
    {
      "cell_type": "code",
      "source": [],
      "metadata": {
        "id": "T09HzzZWBnD6"
      },
      "execution_count": null,
      "outputs": []
    },
    {
      "cell_type": "code",
      "source": [],
      "metadata": {
        "id": "hcRsKQDdBnBk"
      },
      "execution_count": null,
      "outputs": []
    },
    {
      "cell_type": "code",
      "source": [],
      "metadata": {
        "id": "3Al-p6X7Bm_c"
      },
      "execution_count": null,
      "outputs": []
    },
    {
      "cell_type": "code",
      "source": [],
      "metadata": {
        "id": "IsFLQff_Bm4t"
      },
      "execution_count": null,
      "outputs": []
    },
    {
      "cell_type": "code",
      "source": [],
      "metadata": {
        "id": "Cyh2ciB3Bmuc"
      },
      "execution_count": null,
      "outputs": []
    }
  ],
  "metadata": {
    "kernelspec": {
      "display_name": "Python 3",
      "language": "python",
      "name": "python3"
    },
    "language_info": {
      "codemirror_mode": {
        "name": "ipython",
        "version": 3
      },
      "file_extension": ".py",
      "mimetype": "text/x-python",
      "name": "python",
      "nbconvert_exporter": "python",
      "pygments_lexer": "ipython3",
      "version": "3.6.6rc1"
    },
    "colab": {
      "provenance": [],
      "include_colab_link": true
    }
  },
  "nbformat": 4,
  "nbformat_minor": 0
}